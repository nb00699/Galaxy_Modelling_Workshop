{
 "cells": [
  {
   "cell_type": "markdown",
   "id": "389f7b6f-ae71-4c04-9013-b2d9be843bc5",
   "metadata": {},
   "source": [
    "# Bayesian Information Criterion (BIC) Calculation Using Extreme Deconvolution (XD) (Bovy et al. 2011)\n",
    "\n",
    "When using, please cite Buckley et al. 2024 (https://doi.org/10.1093/mnras/stae2202).\n",
    "\n",
    "This notebook calculates the Bayesian Information Criterion (BIC) for a mock dataset generated using a Gaussian Mixture Model (GMM). The workflow includes:\n",
    "1. Extracting data points and errors from a CSV file.\n",
    "2. Standardising the data for better numerical stability.\n",
    "3. Using a Gaussian Mixture Model (GMM) to initialise parameters for Extreme Deconvolution (XD).\n",
    "4. Performing XD to compute the average log-likelihood for various numbers of components.\n",
    "5. Calculating BIC scores for each model and visualising the results to determine the optimal number of components."
   ]
  },
  {
   "cell_type": "markdown",
   "id": "face4175-b59c-4d93-82dc-f8fdd33ee766",
   "metadata": {},
   "source": [
    "## Importing Modules"
   ]
  },
  {
   "cell_type": "code",
   "execution_count": 87,
   "id": "d459a86a-1b3b-4e70-ad41-5d39e7ca025a",
   "metadata": {},
   "outputs": [],
   "source": [
    "import pandas as pd\n",
    "import numpy as np\n",
    "import matplotlib.pyplot as plt\n",
    "from extreme_deconvolution import extreme_deconvolution\n",
    "from sklearn.mixture import GaussianMixture\n",
    "from sklearn.preprocessing import StandardScaler"
   ]
  },
  {
   "cell_type": "markdown",
   "id": "b5f91b41-1f79-481d-8fbe-61c8334261f6",
   "metadata": {},
   "source": [
    "## Extracting Data from the CSV File\n",
    "\n",
    "This block reads the dataset from a CSV file and extracts:\n",
    "1. Data points (`X`).\n",
    "2. Errors (`errors`) associated with the data points.\n",
    "3. Component labels (`labels`) for reference (not used in XD).\n",
    "\n",
    "Modify the `filename` variable to specify a different input file."
   ]
  },
  {
   "cell_type": "code",
   "execution_count": 88,
   "id": "7574ff0a-facd-468b-a7cb-90726669e619",
   "metadata": {},
   "outputs": [
    {
     "name": "stdout",
     "output_type": "stream",
     "text": [
      "Data shape: (10000, 2)\n",
      "Errors shape: (10000, 2)\n",
      "Number of dimensions: 2\n"
     ]
    }
   ],
   "source": [
    "filename = \"generated_data_with_errors.csv\" # Path to the input file\n",
    "data = pd.read_csv(filename)\n",
    "\n",
    "# Extract dimensions, errors, and labels\n",
    "num_dimensions = len([col for col in data.columns if col.startswith(\"Dimension\")]) # Number of dimensions\n",
    "X = data[[f\"Dimension_{i+1}\" for i in range(num_dimensions)]].values  # Data points\n",
    "errors = data[[f\"Error_Dimension_{i+1}\" for i in range(num_dimensions)]].values  # Errors\n",
    "labels = data[\"Component_Label\"].values  # Component labels (optional)\n",
    "\n",
    "# Display dataset properties\n",
    "print(f\"Data shape: {X.shape}\")\n",
    "print(f\"Errors shape: {errors.shape}\")\n",
    "print(f\"Number of dimensions: {num_dimensions}\")"
   ]
  },
  {
   "cell_type": "markdown",
   "id": "07bddd9e-7796-4174-9b68-67a6f1506eb4",
   "metadata": {},
   "source": [
    "## Define Bayesian Information Criterion (BIC) Function\n",
    "\n",
    "This function computes the BIC score for a given model using:\n",
    "1. Total log-likelihood (`log_likelihood`).\n",
    "2. Number of free parameters in the model (`num_parameters`).\n",
    "3. Number of observations (`num_samples`).\n",
    "\n",
    "The BIC formula penalises models with excessive complexity to avoid overfitting."
   ]
  },
  {
   "cell_type": "code",
   "execution_count": 89,
   "id": "18edeb0a-4b9d-4ae6-97fd-ccd153c5055c",
   "metadata": {},
   "outputs": [],
   "source": [
    "def BIC(log_likelihood, num_parameters, num_samples):\n",
    "\n",
    "    \"\"\"\n",
    "    Compute the Bayesian Information Criterion (BIC).\n",
    "    \n",
    "    Parameters:\n",
    "        log_likelihood (float): Total log-likelihood of the model.\n",
    "        num_parameters (int): Number of free parameters in the model.\n",
    "        num_observations (int): Number of observations.\n",
    "        \n",
    "    Returns:\n",
    "        float: BIC score.\n",
    "    \"\"\"\n",
    "    \n",
    "    return -2 * log_likelihood + num_parameters * np.log(num_samples)"
   ]
  },
  {
   "cell_type": "markdown",
   "id": "e285cf34-9a85-4263-897f-1273bb188b26",
   "metadata": {},
   "source": [
    "## Initialise Variables\n",
    "\n",
    "This block initialises:\n",
    "1. The range of components to test (`num_components`).\n",
    "2. The total number of data points (`num_samples`).\n",
    "3. The dimensionality of the data (`num_dim`).\n",
    "\n",
    "These variables are used to calculate the BIC scores for models with different numbers of components."
   ]
  },
  {
   "cell_type": "code",
   "execution_count": 93,
   "id": "05599898-7ab5-4715-993f-30d09ae281be",
   "metadata": {},
   "outputs": [
    {
     "name": "stdout",
     "output_type": "stream",
     "text": [
      "The number of dimensions: 2\n",
      "The number of samples: 10000\n",
      "The number of components: 4\n"
     ]
    }
   ],
   "source": [
    "num_components = np.arange(1, 11)  # Range of components to test\n",
    "num_samples = len(X)  # Number of data points\n",
    "num_dim = X.shape[1]  # Number of dimensions\n",
    "\n",
    "# Display basic information about the dataset\n",
    "print('The number of dimensions:', num_dim)\n",
    "print('The number of samples:', num_samples)\n",
    "print('The number of components:', int(labels[-1] + 1)) # Reference only"
   ]
  },
  {
   "cell_type": "markdown",
   "id": "03ec0764-20ac-4f5f-8726-7ea871d972fb",
   "metadata": {},
   "source": [
    "## Calculate BIC Scores for Different Models\n",
    "\n",
    "This block performs the following steps:\n",
    "1. Standardises the data (`X`) and scales the errors for numerical stability.\n",
    "2. Uses GMM to initialise parameters for XD (weights, means, covariances).\n",
    "3. Computes the log-likelihood using XD for models with different numbers of components.\n",
    "4. Calculates the BIC score for each model and stores the results."
   ]
  },
  {
   "cell_type": "code",
   "execution_count": 94,
   "id": "77a26c2c-e20c-4f04-a8a1-59d9fdf53215",
   "metadata": {},
   "outputs": [
    {
     "name": "stdout",
     "output_type": "stream",
     "text": [
      "1 components fitted with average log-likelihood: -2.833128240330045\n",
      "2 components fitted with average log-likelihood: -2.6458885628520883\n",
      "3 components fitted with average log-likelihood: -2.638244417183768\n",
      "4 components fitted with average log-likelihood: -2.62985901673204\n",
      "5 components fitted with average log-likelihood: -2.6296239097785667\n",
      "6 components fitted with average log-likelihood: -2.6292539716333247\n",
      "Warning: log likelihood decreased by -0.122156\n",
      "7 components fitted with average log-likelihood: -2.712978383796536\n",
      "Warning: log likelihood decreased by -0.60045\n",
      "8 components fitted with average log-likelihood: -3.0053096853796344\n",
      "Warning: log likelihood decreased by -2.87542\n",
      "9 components fitted with average log-likelihood: -3.48087546773501\n",
      "Warning: log likelihood decreased by -4.05926\n",
      "10 components fitted with average log-likelihood: -3.5939093480853312\n"
     ]
    }
   ],
   "source": [
    "# Standardise the data\n",
    "scaler = StandardScaler()\n",
    "X_scaled = scaler.fit_transform(X)\n",
    "\n",
    "# Scale the errors\n",
    "errors_scaled = errors / scaler.scale_\n",
    "\n",
    "# Store BIC scores\n",
    "BIC_scores = []\n",
    "\n",
    "for n in num_components:\n",
    "    # Fit a GMM to initialize parameters using standardised data\n",
    "    gmm = GaussianMixture(n_components=n, random_state=42, covariance_type='full')\n",
    "    gmm.fit(X_scaled)  # Fit GMM to the scaled data\n",
    "\n",
    "    # Extract initial parameters from the GMM\n",
    "    initamp = gmm.weights_  # Component weights\n",
    "    initmean = gmm.means_   # Component means\n",
    "    initcovar = gmm.covariances_  # Component covariance matrices\n",
    "\n",
    "    # Perform Extreme Deconvolution\n",
    "    try:\n",
    "        XD_avg_LL = extreme_deconvolution(\n",
    "            X_scaled, errors_scaled, initamp, initmean, initcovar\n",
    "        )\n",
    "        print(f\"{n} components fitted with average log-likelihood: {XD_avg_LL}\")\n",
    "    except Exception as e:\n",
    "        print(f\"XD failed for {n} components: {e}\")\n",
    "        continue\n",
    "\n",
    "    # Compute total log-likelihood\n",
    "    LL = XD_avg_LL * num_samples\n",
    "\n",
    "    # Formula for number of free parameters\n",
    "    num_parameters = n * (1 + num_dim + num_dim * (num_dim + 1) // 2) - 1\n",
    "\n",
    "    # Calculate BIC\n",
    "    bic_value = BIC(LL, num_parameters, num_samples)\n",
    "    BIC_scores.append(bic_value)"
   ]
  },
  {
   "cell_type": "markdown",
   "id": "e3be9c21-8428-44da-a606-64c8320ce1b1",
   "metadata": {},
   "source": [
    "## Visualise the BIC Scores\n",
    "\n",
    "This block plots the BIC scores against the number of components to identify the optimal number of components. The \"elbow\" or minimum point of the curve represents the best-fitting model."
   ]
  },
  {
   "cell_type": "code",
   "execution_count": 95,
   "id": "9a9bc54c-1335-4f60-a1af-9403aa0f416b",
   "metadata": {},
   "outputs": [
    {
     "data": {
      "image/png": "[encoded data removed]",
      "text/plain": [
       "<Figure size 720x720 with 1 Axes>"
      ]
     },
     "metadata": {
      "needs_background": "light"
     },
     "output_type": "display_data"
    }
   ],
   "source": [
    "# Plot the BIC scores\n",
    "plt.figure(figsize=(10, 10))\n",
    "plt.plot(num_components, BIC_scores, marker='o', color='blue')\n",
    "plt.xlabel('Number of Components', fontsize=14)\n",
    "plt.ylabel('BIC Score', fontsize=14)\n",
    "plt.title('BIC Scores vs Number of Components', fontsize=16)\n",
    "plt.xticks(ticks=np.arange(min(num_components), max(num_components) + 1, step=1))\n",
    "\n",
    "# Highlight the minimum BIC\n",
    "min_bic_index = np.argmin(BIC_scores)\n",
    "plt.scatter(num_components[min_bic_index], BIC_scores[min_bic_index], color='red', zorder=5)\n",
    "plt.annotate(f\"Min BIC: {BIC_scores[min_bic_index]:.2f}\\nComponents: {num_components[min_bic_index]}\", \n",
    "             (num_components[min_bic_index], BIC_scores[min_bic_index]),\n",
    "             textcoords=\"offset points\", xytext=(10, -10), ha='center', fontsize=12)\n",
    "\n",
    "plt.show()"
   ]
  },
  {
   "cell_type": "code",
   "execution_count": null,
   "id": "7cc7e1d4-545a-4d0a-a7f0-cbfa3ac4c8cb",
   "metadata": {},
   "outputs": [],
   "source": []
  }
 ],
 "metadata": {
  "kernelspec": {
   "display_name": "Python 3 (ipykernel)",
   "language": "python",
   "name": "python3"
  },
  "language_info": {
   "codemirror_mode": {
    "name": "ipython",
    "version": 3
   },
   "file_extension": ".py",
   "mimetype": "text/x-python",
   "name": "python",
   "nbconvert_exporter": "python",
   "pygments_lexer": "ipython3",
   "version": "3.10.12"
  }
 },
 "nbformat": 4,
 "nbformat_minor": 5
}
